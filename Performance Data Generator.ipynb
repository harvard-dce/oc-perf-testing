{
 "cells": [
  {
   "cell_type": "code",
   "execution_count": null,
   "metadata": {},
   "outputs": [],
   "source": [
    "import requests\n",
    "from requests.auth import HTTPDigestAuth\n",
    "from xml.etree import ElementTree\n",
    "import json\n",
    "from ipython_secrets import get_secret"
   ]
  },
  {
   "cell_type": "code",
   "execution_count": null,
   "metadata": {},
   "outputs": [],
   "source": [
    "OPENCAST_BASE_URL = \"http://admin.prod-oc.dcex.harvard.edu\"\n",
    "OPENCAST_API_USER = get_secret(\"OPENCAST_API_USER\", prompt=\"Opencast API User\")\n",
    "OPENCAST_API_PASS = get_secret(\"OPENCAST_API_PASS\", prompt=\"Opencast API Password\")"
   ]
  },
  {
   "cell_type": "code",
   "execution_count": null,
   "metadata": {},
   "outputs": [],
   "source": [
    "http_auth = HTTPDigestAuth(OPENCAST_API_USER, OPENCAST_API_PASS)\n",
    "opencast_headers = {\n",
    "    'X-REQUESTED-AUTH': 'Digest',\n",
    "    'X-Opencast-Matterhorn-Authorization': 'true'\n",
    "}"
   ]
  },
  {
   "cell_type": "markdown",
   "metadata": {},
   "source": [
    "# Example\n",
    "\n",
    "This example fetches one workflow's data and calculates the overall performance rating and the rating of each operation within the workflow based on duration and the length of the video."
   ]
  },
  {
   "cell_type": "code",
   "execution_count": null,
   "metadata": {},
   "outputs": [],
   "source": [
    "wf_id = \"33657\"\n",
    "wf_url = OPENCAST_BASE_URL + \"/workflow/instance/{id}.json\".format(id=wf_id)\n",
    "wf_resp = requests.get(wf_url, auth=http_auth, headers=opencast_headers)\n",
    "wf_data = wf_resp.json()['workflow']\n",
    "wf_data"
   ]
  },
  {
   "cell_type": "code",
   "execution_count": null,
   "metadata": {},
   "outputs": [],
   "source": [
    "mediapackage_id = wf_data['mediapackage']['id']\n",
    "assets_url = OPENCAST_BASE_URL + \"/assets/episode/{mpid}\".format(mpid=mediapackage_id)\n",
    "assets_resp = requests.get(assets_url, auth=http_auth, headers=opencast_headers)\n",
    "assets_xml = ElementTree.fromstring(assets_resp.content)"
   ]
  },
  {
   "cell_type": "code",
   "execution_count": null,
   "metadata": {},
   "outputs": [],
   "source": [
    "# https://docs.python.org/3.6/library/xml.etree.elementtree.html#parsing-xml-with-namespaces\n",
    "ns = {'oc': 'http://mediapackage.opencastproject.org'}\n",
    "\n",
    "video_lengths = {}\n",
    "for track in assets_xml.findall('.//oc:track', ns):\n",
    "    type = track.attrib['type']\n",
    "    for track_type in ['source', 'delivery']:\n",
    "        if type.endswith(track_type) and track_type not in video_lengths:\n",
    "            video_lengths[track_type] = int(track.find('oc:duration', ns).text)\n",
    "video_lengths        "
   ]
  },
  {
   "cell_type": "code",
   "execution_count": null,
   "metadata": {},
   "outputs": [],
   "source": [
    "wf_id = wf_data['id']\n",
    "wf_state = wf_data['state']\n",
    "wf_ops = wf_data['operations']['operation']\n",
    "completed_ops = [op for op in wf_ops if 'completed' in op]\n",
    "\n",
    "if len(completed_ops) and wf_state in ['SUCCEEDED', 'FAILED']:\n",
    "    first_op = completed_ops[0]\n",
    "    last_op = completed_ops[-1]\n",
    "    wf_duration = int((last_op['completed'] - first_op['completed']))\n",
    "    wf_perf_metric = round(float(wf_duration) / video_lengths['delivery'], 3)\n",
    "else:\n",
    "    wf_duration = None\n",
    "    wf_perf_metric = None\n",
    "    \n",
    "print(\"workflow duration: \" + str(wf_duration))\n",
    "print(\"workflow performance metric: \" + str(wf_perf_metric))"
   ]
  },
  {
   "cell_type": "code",
   "execution_count": null,
   "metadata": {},
   "outputs": [],
   "source": [
    "for op in completed_ops:\n",
    "    op_type = op['id']\n",
    "    op_duration = int(op['completed'] - op['started'])\n",
    "    op_perf_metric = round(float(op_duration) / video_lengths['delivery'], 3)\n",
    "    print(\"{},{},{},{}\".format(wf_id, op_type, op_duration, op_perf_metric))"
   ]
  }
 ],
 "metadata": {
  "language_info": {
   "name": "python",
   "pygments_lexer": "ipython3"
  }
 },
 "nbformat": 4,
 "nbformat_minor": 2
}
